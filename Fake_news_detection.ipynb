{
  "nbformat": 4,
  "nbformat_minor": 0,
  "metadata": {
    "colab": {
      "provenance": [],
      "authorship_tag": "ABX9TyMEM7JF+I+cn0XtNlSoaq2j",
      "include_colab_link": true
    },
    "kernelspec": {
      "name": "python3",
      "display_name": "Python 3"
    },
    "language_info": {
      "name": "python"
    }
  },
  "cells": [
    {
      "cell_type": "markdown",
      "metadata": {
        "id": "view-in-github",
        "colab_type": "text"
      },
      "source": [
        "<a href=\"https://colab.research.google.com/github/Tishya31/Fake-news-Detection/blob/main/Fake_news_detection.ipynb\" target=\"_parent\"><img src=\"https://colab.research.google.com/assets/colab-badge.svg\" alt=\"Open In Colab\"/></a>"
      ]
    },
    {
      "cell_type": "code",
      "execution_count": 1,
      "metadata": {
        "colab": {
          "base_uri": "https://localhost:8080/"
        },
        "id": "We7_9rxvLPl9",
        "outputId": "868cf8cf-be7a-46f3-b350-cbbe58a45ff1"
      },
      "outputs": [
        {
          "output_type": "stream",
          "name": "stdout",
          "text": [
            "Requirement already satisfied: scikit-learn in /usr/local/lib/python3.12/dist-packages (1.6.1)\n",
            "Requirement already satisfied: pandas in /usr/local/lib/python3.12/dist-packages (2.2.2)\n",
            "Requirement already satisfied: numpy in /usr/local/lib/python3.12/dist-packages (2.0.2)\n",
            "Requirement already satisfied: scipy>=1.6.0 in /usr/local/lib/python3.12/dist-packages (from scikit-learn) (1.16.1)\n",
            "Requirement already satisfied: joblib>=1.2.0 in /usr/local/lib/python3.12/dist-packages (from scikit-learn) (1.5.1)\n",
            "Requirement already satisfied: threadpoolctl>=3.1.0 in /usr/local/lib/python3.12/dist-packages (from scikit-learn) (3.6.0)\n",
            "Requirement already satisfied: python-dateutil>=2.8.2 in /usr/local/lib/python3.12/dist-packages (from pandas) (2.9.0.post0)\n",
            "Requirement already satisfied: pytz>=2020.1 in /usr/local/lib/python3.12/dist-packages (from pandas) (2025.2)\n",
            "Requirement already satisfied: tzdata>=2022.7 in /usr/local/lib/python3.12/dist-packages (from pandas) (2025.2)\n",
            "Requirement already satisfied: six>=1.5 in /usr/local/lib/python3.12/dist-packages (from python-dateutil>=2.8.2->pandas) (1.17.0)\n"
          ]
        }
      ],
      "source": [
        "!pip install scikit-learn pandas numpy"
      ]
    },
    {
      "cell_type": "code",
      "source": [
        "import pandas as pd\n",
        "import numpy as np\n",
        "from sklearn.model_selection import train_test_split\n",
        "from sklearn.feature_extraction.text import TfidfVectorizer\n",
        "from sklearn.linear_model import PassiveAggressiveClassifier\n",
        "from sklearn.svm import LinearSVC\n",
        "from sklearn import metrics\n"
      ],
      "metadata": {
        "id": "ctFQnzbjLX7h"
      },
      "execution_count": 2,
      "outputs": []
    },
    {
      "cell_type": "code",
      "source": [
        "fake = pd.read_csv(\"Fake.csv\")\n",
        "true = pd.read_csv(\"True.csv\")\n",
        "\n",
        "\n",
        "\n",
        "\n"
      ],
      "metadata": {
        "id": "X6cjdKXHLjDr"
      },
      "execution_count": 5,
      "outputs": []
    },
    {
      "cell_type": "code",
      "source": [
        "fake[\"label\"] = \"FAKE\"\n",
        "true[\"label\"] = \"REAL\"\n",
        "\n",
        "# Combine datasets\n",
        "df = pd.concat([fake, true], axis=0).reset_index(drop=True)\n",
        "\n",
        "print(\"Dataset Shape:\", df.shape)\n",
        "print(df.head())"
      ],
      "metadata": {
        "colab": {
          "base_uri": "https://localhost:8080/"
        },
        "id": "GyEuWGXUM9_a",
        "outputId": "e8e78484-d18d-40d3-fb4d-11e6e396f440"
      },
      "execution_count": 6,
      "outputs": [
        {
          "output_type": "stream",
          "name": "stdout",
          "text": [
            "Dataset Shape: (44898, 5)\n",
            "                                               title  \\\n",
            "0   Donald Trump Sends Out Embarrassing New Year’...   \n",
            "1   Drunk Bragging Trump Staffer Started Russian ...   \n",
            "2   Sheriff David Clarke Becomes An Internet Joke...   \n",
            "3   Trump Is So Obsessed He Even Has Obama’s Name...   \n",
            "4   Pope Francis Just Called Out Donald Trump Dur...   \n",
            "\n",
            "                                                text subject  \\\n",
            "0  Donald Trump just couldn t wish all Americans ...    News   \n",
            "1  House Intelligence Committee Chairman Devin Nu...    News   \n",
            "2  On Friday, it was revealed that former Milwauk...    News   \n",
            "3  On Christmas day, Donald Trump announced that ...    News   \n",
            "4  Pope Francis used his annual Christmas Day mes...    News   \n",
            "\n",
            "                date label  \n",
            "0  December 31, 2017  FAKE  \n",
            "1  December 31, 2017  FAKE  \n",
            "2  December 30, 2017  FAKE  \n",
            "3  December 29, 2017  FAKE  \n",
            "4  December 25, 2017  FAKE  \n"
          ]
        }
      ]
    },
    {
      "cell_type": "code",
      "source": [
        "X = df[\"text\"]\n",
        "y = df[\"label\"]\n"
      ],
      "metadata": {
        "id": "q_CncJscNDii"
      },
      "execution_count": 7,
      "outputs": []
    },
    {
      "cell_type": "code",
      "source": [
        "X_train, X_test, y_train, y_test = train_test_split(X, y, test_size=0.2, random_state=42)"
      ],
      "metadata": {
        "id": "crR9IQgENKxv"
      },
      "execution_count": 8,
      "outputs": []
    },
    {
      "cell_type": "code",
      "source": [
        "tfidf_vectorizer = TfidfVectorizer(stop_words='english', max_df=0.7)\n",
        "tfidf_train = tfidf_vectorizer.fit_transform(X_train)\n",
        "tfidf_test = tfidf_vectorizer.transform(X_test)"
      ],
      "metadata": {
        "id": "yW5FAqV6NV0D"
      },
      "execution_count": 9,
      "outputs": []
    },
    {
      "cell_type": "code",
      "source": [
        "pac = PassiveAggressiveClassifier(max_iter=50)\n",
        "pac.fit(tfidf_train, y_train)\n",
        "y_pred_pac = pac.predict(tfidf_test)"
      ],
      "metadata": {
        "id": "s8jvrnSRNZW7"
      },
      "execution_count": 10,
      "outputs": []
    },
    {
      "cell_type": "code",
      "source": [
        "accuracy_pac = metrics.accuracy_score(y_test, y_pred_pac)\n",
        "f1_pac = metrics.f1_score(y_test, y_pred_pac, average=\"weighted\")\n",
        "\n",
        "print(\"🔹 Passive Aggressive Classifier\")\n",
        "print(f\"Accuracy: {accuracy_pac*100:.2f}%\")\n",
        "print(f\"F1 Score: {f1_pac:.2f}\\n\")"
      ],
      "metadata": {
        "colab": {
          "base_uri": "https://localhost:8080/"
        },
        "id": "B5Lcj13FNig-",
        "outputId": "dcb1dc5e-20b7-4aac-8f2e-f88ed868661d"
      },
      "execution_count": 11,
      "outputs": [
        {
          "output_type": "stream",
          "name": "stdout",
          "text": [
            "🔹 Passive Aggressive Classifier\n",
            "Accuracy: 99.45%\n",
            "F1 Score: 0.99\n",
            "\n"
          ]
        }
      ]
    },
    {
      "cell_type": "code",
      "source": [
        "svm = LinearSVC()\n",
        "svm.fit(tfidf_train, y_train)\n",
        "y_pred_svm = svm.predict(tfidf_test)\n",
        "\n",
        "# Evaluate SVM\n",
        "accuracy_svm = metrics.accuracy_score(y_test, y_pred_svm)\n",
        "f1_svm = metrics.f1_score(y_test, y_pred_svm, average=\"weighted\")\n",
        "\n",
        "print(\"🔹 Support Vector Machine (LinearSVC)\")\n",
        "print(f\"Accuracy: {accuracy_svm*100:.2f}%\")\n",
        "print(f\"F1 Score: {f1_svm:.2f}\")\n",
        "\n",
        "# Step 9: Confusion Matrix (SVM Example)\n",
        "cm = metrics.confusion_matrix(y_test, y_pred_svm)\n",
        "print(\"Confusion Matrix (SVM):\\n\", cm)"
      ],
      "metadata": {
        "colab": {
          "base_uri": "https://localhost:8080/"
        },
        "id": "ENkRb6g0Np7c",
        "outputId": "a7b84b9f-618f-44c0-9422-f369fa552a73"
      },
      "execution_count": 12,
      "outputs": [
        {
          "output_type": "stream",
          "name": "stdout",
          "text": [
            "🔹 Support Vector Machine (LinearSVC)\n",
            "Accuracy: 99.44%\n",
            "F1 Score: 0.99\n",
            "Confusion Matrix (SVM):\n",
            " [[4707   26]\n",
            " [  24 4223]]\n"
          ]
        }
      ]
    }
  ]
}